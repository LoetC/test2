{
 "cells": [
  {
   "cell_type": "markdown",
   "metadata": {},
   "source": [
    "# sEEG analysis \n",
    "Notebook that uses classes defined in `prfseeg`. These abstract out the patient and acquisition information used in the preprocessing. "
   ]
  },
  {
   "cell_type": "code",
   "execution_count": 1,
   "metadata": {},
   "outputs": [],
   "source": [
    "%load_ext autoreload\n",
    "%autoreload 2\n",
    "\n",
    "import os\n",
    "from prfseeg import *"
   ]
  },
  {
   "cell_type": "code",
   "execution_count": 2,
   "metadata": {},
   "outputs": [
    {
     "name": "stdout",
     "output_type": "stream",
     "text": [
      "Acquisition10kHz 1 for Patient \"sub-002\" at \"/scratch/2021/prf-seeg/data/bids\", derivatives at /scratch/2021/prf-seeg/data/derivatives on task pRF created.\n",
      "Acquisition10kHz 2 for Patient \"sub-002\" at \"/scratch/2021/prf-seeg/data/bids\", derivatives at /scratch/2021/prf-seeg/data/derivatives on task pRF created.\n",
      "Acquisition2kHz 3 for Patient \"sub-002\" at \"/scratch/2021/prf-seeg/data/bids\", derivatives at /scratch/2021/prf-seeg/data/derivatives on task pRF created.\n",
      "Acquisition2kHz 4 for Patient \"sub-002\" at \"/scratch/2021/prf-seeg/data/bids\", derivatives at /scratch/2021/prf-seeg/data/derivatives on task pRF created.\n",
      "Acquisition2kHz 5 for Patient \"sub-002\" at \"/scratch/2021/prf-seeg/data/bids\", derivatives at /scratch/2021/prf-seeg/data/derivatives on task pRF created.\n",
      "Acquisition2kHz 6 for Patient \"sub-002\" at \"/scratch/2021/prf-seeg/data/bids\", derivatives at /scratch/2021/prf-seeg/data/derivatives on task pRF created.\n"
     ]
    }
   ],
   "source": [
    "# laptop:\n",
    "# base_dir = '/Users/knapen/projects/prf-seeg/data'\n",
    "# server:\n",
    "base_dir = '/scratch/2021/prf-seeg/data'\n",
    "\n",
    "patient = Patient(subject='sub-002', \n",
    "                  raw_dir=os.path.join(base_dir, 'bids'), \n",
    "                  derivatives_dir=os.path.join(base_dir, 'derivatives'))\n",
    "patient.gather_acquisitions()                  "
   ]
  },
  {
   "cell_type": "code",
   "execution_count": null,
   "metadata": {},
   "outputs": [
    {
     "name": "stdout",
     "output_type": "stream",
     "text": [
      "Extracting EDF parameters from /scratch/2021/prf-seeg/data/bids/sub-002/func/sub-002_run-01_task-pRF_acq-10kHz.edf...\n",
      "EDF file detected\n",
      "Setting channel info structure...\n",
      "Could not determine channel type of the following channels, they will be set as EEG:\n",
      "DC09, DC10, DC11, DC12, DC13, DC14, DC15, DC16, L1, L2, L3, L4, L5, L6, L7, L8, L9, L10, L11, L12, L13, L14, L15, L16, Y1, Y2, Y3, Y4, Y5, Y6, Y7, Y8, Y9, Y10, Y11, Y12, Y13, Y14, Y15, Y16, H'1, H'2, H'3, H'4, H'5, H'6, H'7, H'8, H'9, H'10, H'11, H'12, H'13, H'14, H'15, H'16, Y'1, Y'2, Y'3, Y'4, Y'5, Y'6, Y'7, Y'8, Y'9, Y'10, Y'11, Y'12, Y'13, Y'14, Y'15, Y'16\n",
      "Creating raw.info structure...\n",
      "Reading 0 ... 4259999  =      0.000 ...   426.000 secs...\n"
     ]
    },
    {
     "name": "stderr",
     "output_type": "stream",
     "text": [
      "/tank/tkn219/projects/prf-seeg/prfseeg/acquisition.py:233: RuntimeWarning: The unit for channel(s) DC09, DC10, DC11, DC12, DC13, DC14, DC15, DC16 has changed from V to NA.\n",
      "  self.raw.set_channel_types(ch_type_dict)\n"
     ]
    },
    {
     "name": "stdout",
     "output_type": "stream",
     "text": [
      "sEEG channel type selected for re-referencing\n",
      "Applying average reference.\n",
      "Applying a custom ('sEEG',) reference.\n",
      "Setting up band-stop filter\n",
      "\n",
      "FIR filter parameters\n",
      "---------------------\n",
      "Designing a one-pass, zero-phase, non-causal bandstop filter:\n",
      "- Windowed time-domain design (firwin) method\n",
      "- Hamming window with 0.0194 passband ripple and 53 dB stopband attenuation\n",
      "- Lower transition bandwidth: 0.50 Hz\n",
      "- Upper transition bandwidth: 0.50 Hz\n",
      "- Filter length: 66001 samples (6.600 sec)\n",
      "\n",
      "62 events found\n",
      "Event IDs: [1 2 3]\n",
      "33 events found\n",
      "Event IDs: [1 2 3]\n",
      "Overwriting existing file.\n",
      "Overwriting existing file.\n",
      "Overwriting existing file.\n",
      "Writing /scratch/2021/prf-seeg/data/derivatives/prep/sub-002/func/sub-002_run-01_task-pRF_acq-10kHz_ieeg.fif.gz\n",
      "Closing /scratch/2021/prf-seeg/data/derivatives/prep/sub-002/func/sub-002_run-01_task-pRF_acq-10kHz_ieeg.fif.gz\n",
      "[done]\n"
     ]
    },
    {
     "name": "stderr",
     "output_type": "stream",
     "text": [
      "[Parallel(n_jobs=32)]: Using backend LokyBackend with 32 concurrent workers.\n"
     ]
    }
   ],
   "source": [
    "# %pdb on\n",
    "patient.preprocess()"
   ]
  },
  {
   "cell_type": "code",
   "execution_count": null,
   "metadata": {},
   "outputs": [],
   "source": [
    "with pd.option_context(\"display.min_rows\", 50, \"display.max_rows\", 100, \\\n",
    "                       \"display.max_columns\", 15, 'display.max_colwidth', 150):\n",
    "    display(patient.acquisitions[0].trial_data)"
   ]
  },
  {
   "cell_type": "code",
   "execution_count": null,
   "metadata": {},
   "outputs": [],
   "source": []
  }
 ],
 "metadata": {
  "interpreter": {
   "hash": "9dd1802bb333b88d517ce8f78fce5d5e0c513716ccd64a853ccc0c452871898f"
  },
  "kernelspec": {
   "display_name": "Python 3.9",
   "language": "python",
   "name": "py39"
  },
  "language_info": {
   "codemirror_mode": {
    "name": "ipython",
    "version": 3
   },
   "file_extension": ".py",
   "mimetype": "text/x-python",
   "name": "python",
   "nbconvert_exporter": "python",
   "pygments_lexer": "ipython3",
   "version": "3.9.7"
  }
 },
 "nbformat": 4,
 "nbformat_minor": 4
}

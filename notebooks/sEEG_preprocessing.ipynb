{
 "cells": [
  {
   "cell_type": "markdown",
   "metadata": {},
   "source": [
    "# sEEG analysis \n",
    "Notebook that uses classes defined in `prfseeg`. These abstract out the patient and acquisition information used in the preprocessing. "
   ]
  },
  {
   "cell_type": "code",
   "execution_count": 1,
   "metadata": {},
   "outputs": [],
   "source": [
    "%load_ext autoreload\n",
    "%autoreload 2\n",
    "\n",
    "from prfseeg import *"
   ]
  },
  {
   "cell_type": "code",
   "execution_count": 2,
   "metadata": {},
   "outputs": [
    {
     "name": "stdout",
     "output_type": "stream",
     "text": [
      "Acquisition10kHz is ready\n",
      "Acquisition10kHz is ready\n",
      "Acquisition2kHz is ready\n",
      "Acquisition2kHz is ready\n",
      "Acquisition2kHz is ready\n",
      "Acquisition2kHz is ready\n"
     ]
    }
   ],
   "source": [
    "patient = Patient(subject='sub-001', \n",
    "                  raw_dir='/Users/knapen/projects/prf-seeg/data/bids', \n",
    "                  derivatives_dir='/Users/knapen/projects/prf-seeg/data/derivatives')\n",
    "patient.gather_acquisitions()                  "
   ]
  },
  {
   "cell_type": "code",
   "execution_count": 3,
   "metadata": {},
   "outputs": [
    {
     "name": "stdout",
     "output_type": "stream",
     "text": [
      "Extracting EDF parameters from /Users/knapen/projects/prf-seeg/data/bids/sub-001/func/sub-001_run-01_task-pRF_acq-10kHz.edf...\n",
      "EDF file detected\n",
      "Setting channel info structure...\n",
      "Could not determine channel type of the following channels, they will be set as EEG:\n",
      "E, H'1, H'2, H'3, H'4, H'5, H'6, H'7, DC01, DC02, DC03, DC04, DC05, DC06, DC07, DC08, DC09, DC10, DC11, DC12, DC13, DC14, DC15, DC16, H'8, H'9, H'10, H'11, H'12, H'13, H'14, H'15, H'16, L'1, L'2, L'3, L'4, L'5, L'6, L'7, L'8, L'9, L'10, L'11, L'12, L'13, L'14, L'15, L'16, L'17, L'18, N'1, N'2, N'3, N'4, N'7, N'8, N'9, N'10, N'11, N'12, N'13, N'14, N'15, W'1, W'2, W'3, W'4, W'5, W'6, W'7, W'8, W'9, W'10, W'11, W'12, W'13, W'14, W'15, Y'11, Y'12\n",
      "Creating raw.info structure...\n",
      "Reading 0 ... 4790191  =      0.000 ...   479.019 secs...\n",
      "Setting up band-stop filter\n",
      "\n",
      "FIR filter parameters\n",
      "---------------------\n",
      "Designing a one-pass, zero-phase, non-causal bandstop filter:\n",
      "- Windowed time-domain design (firwin) method\n",
      "- Hamming window with 0.0194 passband ripple and 53 dB stopband attenuation\n",
      "- Lower transition bandwidth: 0.50 Hz\n",
      "- Upper transition bandwidth: 0.50 Hz\n",
      "- Filter length: 66001 samples (6.600 sec)\n",
      "\n",
      "Writing /Users/knapen/projects/prf-seeg/data/derivatives/prep/sub-001/func/sub-001_run-01_task-pRF_acq-10kHz_ieeg.fif.gz\n",
      "Closing /Users/knapen/projects/prf-seeg/data/derivatives/prep/sub-001/func/sub-001_run-01_task-pRF_acq-10kHz_ieeg.fif.gz\n",
      "[done]\n"
     ]
    },
    {
     "name": "stderr",
     "output_type": "stream",
     "text": [
      "[Parallel(n_jobs=16)]: Using backend LokyBackend with 16 concurrent workers.\n",
      "[Parallel(n_jobs=16)]: Done   2 tasks      | elapsed:  4.0min\n"
     ]
    }
   ],
   "source": [
    "patient.preprocess()"
   ]
  },
  {
   "cell_type": "code",
   "execution_count": null,
   "metadata": {},
   "outputs": [
    {
     "data": {
      "text/plain": [
       "900.0"
      ]
     },
     "execution_count": 5,
     "metadata": {},
     "output_type": "execute_result"
    }
   ],
   "source": [
    "# patient.acquisitions[0].raw.info['sfreq']"
   ]
  },
  {
   "cell_type": "code",
   "execution_count": null,
   "metadata": {},
   "outputs": [],
   "source": []
  }
 ],
 "metadata": {
  "interpreter": {
   "hash": "9dd1802bb333b88d517ce8f78fce5d5e0c513716ccd64a853ccc0c452871898f"
  },
  "kernelspec": {
   "display_name": "Python 3.7.7 64-bit ('neuro': conda)",
   "language": "python",
   "name": "python3"
  },
  "language_info": {
   "codemirror_mode": {
    "name": "ipython",
    "version": 3
   },
   "file_extension": ".py",
   "mimetype": "text/x-python",
   "name": "python",
   "nbconvert_exporter": "python",
   "pygments_lexer": "ipython3",
   "version": "3.9.7"
  },
  "orig_nbformat": 4
 },
 "nbformat": 4,
 "nbformat_minor": 2
}

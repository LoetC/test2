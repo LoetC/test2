{
 "cells": [
  {
   "cell_type": "code",
   "execution_count": null,
   "metadata": {},
   "outputs": [],
   "source": [
    "%load_ext autoreload\n",
    "%autoreload 2\n",
    "\n",
    "import os\n",
    "import seaborn as sns\n",
    "from prfseeg import *"
   ]
  },
  {
   "cell_type": "code",
   "execution_count": null,
   "metadata": {},
   "outputs": [],
   "source": [
    "# laptop:\n",
    "# base_dir = '/Users/knapen/projects/prf-seeg/data'\n",
    "# server:\n",
    "base_dir = '/scratch/2021/prf-seeg/data'\n",
    "\n",
    "patient = Patient(subject='sub-001', \n",
    "                  raw_dir=os.path.join(base_dir, 'bids'), \n",
    "                  derivatives_dir=os.path.join(base_dir, 'derivatives'))\n",
    "patient.gather_acquisitions()                  "
   ]
  },
  {
   "cell_type": "code",
   "execution_count": null,
   "metadata": {},
   "outputs": [],
   "source": [
    "patient.find_electrode_positions(which_run=2)"
   ]
  }
 ],
 "metadata": {
  "interpreter": {
   "hash": "e007dfba714932e82f7fc3134ab02e107d39743376b1d49f6c3ef728ba02e1bc"
  },
  "kernelspec": {
   "display_name": "Python 3.9.7 64-bit ('py39': conda)",
   "language": "python",
   "name": "python3"
  },
  "language_info": {
   "name": "python",
   "version": "3.9.7"
  },
  "orig_nbformat": 4
 },
 "nbformat": 4,
 "nbformat_minor": 2
}
